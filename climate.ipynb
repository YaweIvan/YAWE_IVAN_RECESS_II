{
 "cells": [
  {
   "cell_type": "code",
   "execution_count": 3,
   "id": "13d7bef7",
   "metadata": {},
   "outputs": [],
   "source": [
    "import pandas as pd #type: ignore\n",
    "import numpy as np #type: ignore\n",
    "import matplotlib.pyplot as plt #type: ignore"
   ]
  },
  {
   "cell_type": "code",
   "execution_count": 4,
   "id": "2f4f8382",
   "metadata": {},
   "outputs": [],
   "source": [
    "data=pd.read_csv('climate_action_data.csv')\n",
    "\n",
    "\n"
   ]
  },
  {
   "cell_type": "code",
   "execution_count": 5,
   "id": "7c90713f",
   "metadata": {},
   "outputs": [
    {
     "data": {
      "text/html": [
       "<div>\n",
       "<style scoped>\n",
       "    .dataframe tbody tr th:only-of-type {\n",
       "        vertical-align: middle;\n",
       "    }\n",
       "\n",
       "    .dataframe tbody tr th {\n",
       "        vertical-align: top;\n",
       "    }\n",
       "\n",
       "    .dataframe thead th {\n",
       "        text-align: right;\n",
       "    }\n",
       "</style>\n",
       "<table border=\"1\" class=\"dataframe\">\n",
       "  <thead>\n",
       "    <tr style=\"text-align: right;\">\n",
       "      <th></th>\n",
       "      <th>Sensor_ID</th>\n",
       "      <th>Date</th>\n",
       "      <th>Soil_Moisture(%)</th>\n",
       "      <th>Soil_pH</th>\n",
       "      <th>Temperature(C)</th>\n",
       "      <th>Humidity(%)</th>\n",
       "      <th>Crop_Type</th>\n",
       "      <th>Fertilizer_Recommended(kg/ha)</th>\n",
       "      <th>Irrigation_Recommended(mm)</th>\n",
       "      <th>Drone_Image_ID</th>\n",
       "    </tr>\n",
       "  </thead>\n",
       "  <tbody>\n",
       "    <tr>\n",
       "      <th>0</th>\n",
       "      <td>SEN-1000</td>\n",
       "      <td>2025-01-01</td>\n",
       "      <td>36.22</td>\n",
       "      <td>6.98</td>\n",
       "      <td>21.3</td>\n",
       "      <td>50.4</td>\n",
       "      <td>Tomatoes</td>\n",
       "      <td>67.6</td>\n",
       "      <td>26.6</td>\n",
       "      <td>IMG-2000</td>\n",
       "    </tr>\n",
       "    <tr>\n",
       "      <th>1</th>\n",
       "      <td>SEN-1001</td>\n",
       "      <td>2025-01-02</td>\n",
       "      <td>76.55</td>\n",
       "      <td>5.03</td>\n",
       "      <td>23.5</td>\n",
       "      <td>34.3</td>\n",
       "      <td>Wheat</td>\n",
       "      <td>130.4</td>\n",
       "      <td>8.3</td>\n",
       "      <td>IMG-2001</td>\n",
       "    </tr>\n",
       "    <tr>\n",
       "      <th>2</th>\n",
       "      <td>SEN-1002</td>\n",
       "      <td>2025-01-03</td>\n",
       "      <td>61.24</td>\n",
       "      <td>6.52</td>\n",
       "      <td>21.9</td>\n",
       "      <td>54.6</td>\n",
       "      <td>Tomatoes</td>\n",
       "      <td>36.0</td>\n",
       "      <td>29.4</td>\n",
       "      <td>IMG-2002</td>\n",
       "    </tr>\n",
       "    <tr>\n",
       "      <th>3</th>\n",
       "      <td>SEN-1003</td>\n",
       "      <td>2025-01-04</td>\n",
       "      <td>51.91</td>\n",
       "      <td>6.62</td>\n",
       "      <td>24.0</td>\n",
       "      <td>48.7</td>\n",
       "      <td>Maize</td>\n",
       "      <td>85.8</td>\n",
       "      <td>19.6</td>\n",
       "      <td>IMG-2003</td>\n",
       "    </tr>\n",
       "    <tr>\n",
       "      <th>4</th>\n",
       "      <td>SEN-1004</td>\n",
       "      <td>2025-01-05</td>\n",
       "      <td>20.92</td>\n",
       "      <td>5.98</td>\n",
       "      <td>19.2</td>\n",
       "      <td>70.6</td>\n",
       "      <td>Wheat</td>\n",
       "      <td>75.6</td>\n",
       "      <td>29.9</td>\n",
       "      <td>IMG-2004</td>\n",
       "    </tr>\n",
       "  </tbody>\n",
       "</table>\n",
       "</div>"
      ],
      "text/plain": [
       "  Sensor_ID        Date Soil_Moisture(%) Soil_pH Temperature(C) Humidity(%)  \\\n",
       "0  SEN-1000  2025-01-01            36.22    6.98           21.3        50.4   \n",
       "1  SEN-1001  2025-01-02            76.55    5.03           23.5        34.3   \n",
       "2  SEN-1002  2025-01-03            61.24    6.52           21.9        54.6   \n",
       "3  SEN-1003  2025-01-04            51.91    6.62           24.0        48.7   \n",
       "4  SEN-1004  2025-01-05            20.92    5.98           19.2        70.6   \n",
       "\n",
       "  Crop_Type Fertilizer_Recommended(kg/ha) Irrigation_Recommended(mm)  \\\n",
       "0  Tomatoes                          67.6                       26.6   \n",
       "1     Wheat                         130.4                        8.3   \n",
       "2  Tomatoes                          36.0                       29.4   \n",
       "3     Maize                          85.8                       19.6   \n",
       "4     Wheat                          75.6                       29.9   \n",
       "\n",
       "  Drone_Image_ID  \n",
       "0       IMG-2000  \n",
       "1       IMG-2001  \n",
       "2       IMG-2002  \n",
       "3       IMG-2003  \n",
       "4       IMG-2004  "
      ]
     },
     "execution_count": 5,
     "metadata": {},
     "output_type": "execute_result"
    }
   ],
   "source": [
    "data.head()"
   ]
  },
  {
   "cell_type": "code",
   "execution_count": 6,
   "id": "65cb05f9",
   "metadata": {},
   "outputs": [
    {
     "data": {
      "text/plain": [
       "Index(['Sensor_ID', 'Date', 'Soil_Moisture(%)', 'Soil_pH', 'Temperature(C)',\n",
       "       'Humidity(%)', 'Crop_Type', 'Fertilizer_Recommended(kg/ha)',\n",
       "       'Irrigation_Recommended(mm)', 'Drone_Image_ID'],\n",
       "      dtype='object')"
      ]
     },
     "execution_count": 6,
     "metadata": {},
     "output_type": "execute_result"
    }
   ],
   "source": [
    "data.columns"
   ]
  },
  {
   "cell_type": "code",
   "execution_count": 9,
   "id": "ed10b4bc",
   "metadata": {},
   "outputs": [
    {
     "data": {
      "text/plain": [
       "913"
      ]
     },
     "execution_count": 9,
     "metadata": {},
     "output_type": "execute_result"
    }
   ],
   "source": [
    "len(data)\n",
    " "
   ]
  },
  {
   "cell_type": "code",
   "execution_count": 15,
   "id": "8079ebfb",
   "metadata": {},
   "outputs": [
    {
     "data": {
      "text/plain": [
       "Sensor_ID                        0\n",
       "Date                             4\n",
       "Soil_Moisture(%)                 0\n",
       "Soil_pH                          0\n",
       "Temperature(C)                   0\n",
       "Humidity(%)                      0\n",
       "Crop_Type                        4\n",
       "Fertilizer_Recommended(kg/ha)    0\n",
       "Irrigation_Recommended(mm)       0\n",
       "Drone_Image_ID                   0\n",
       "dtype: int64"
      ]
     },
     "execution_count": 15,
     "metadata": {},
     "output_type": "execute_result"
    }
   ],
   "source": [
    "data.isnull().sum()"
   ]
  },
  {
   "cell_type": "code",
   "execution_count": null,
   "id": "6445d0c2",
   "metadata": {},
   "outputs": [],
   "source": [
    "data['Date'] = data['Date'].fillna(\"No Date\")"
   ]
  },
  {
   "cell_type": "code",
   "execution_count": 18,
   "id": "6204c565",
   "metadata": {},
   "outputs": [],
   "source": [
    "data['Crop_Type'] = data['Crop_Type'].fillna(\"Unknown\")"
   ]
  },
  {
   "cell_type": "code",
   "execution_count": 19,
   "id": "95c7149a",
   "metadata": {},
   "outputs": [
    {
     "data": {
      "text/plain": [
       "Sensor_ID                        0\n",
       "Date                             0\n",
       "Soil_Moisture(%)                 0\n",
       "Soil_pH                          0\n",
       "Temperature(C)                   0\n",
       "Humidity(%)                      0\n",
       "Crop_Type                        0\n",
       "Fertilizer_Recommended(kg/ha)    0\n",
       "Irrigation_Recommended(mm)       0\n",
       "Drone_Image_ID                   0\n",
       "dtype: int64"
      ]
     },
     "execution_count": 19,
     "metadata": {},
     "output_type": "execute_result"
    }
   ],
   "source": [
    "data.isnull().sum()"
   ]
  },
  {
   "cell_type": "code",
   "execution_count": 10,
   "id": "d918c5cc",
   "metadata": {},
   "outputs": [
    {
     "data": {
      "text/html": [
       "<div>\n",
       "<style scoped>\n",
       "    .dataframe tbody tr th:only-of-type {\n",
       "        vertical-align: middle;\n",
       "    }\n",
       "\n",
       "    .dataframe tbody tr th {\n",
       "        vertical-align: top;\n",
       "    }\n",
       "\n",
       "    .dataframe thead th {\n",
       "        text-align: right;\n",
       "    }\n",
       "</style>\n",
       "<table border=\"1\" class=\"dataframe\">\n",
       "  <thead>\n",
       "    <tr style=\"text-align: right;\">\n",
       "      <th></th>\n",
       "      <th>Sensor_ID</th>\n",
       "      <th>Date</th>\n",
       "      <th>Soil_Moisture(%)</th>\n",
       "      <th>Soil_pH</th>\n",
       "      <th>Temperature(C)</th>\n",
       "      <th>Humidity(%)</th>\n",
       "      <th>Crop_Type</th>\n",
       "      <th>Fertilizer_Recommended(kg/ha)</th>\n",
       "      <th>Irrigation_Recommended(mm)</th>\n",
       "      <th>Drone_Image_ID</th>\n",
       "    </tr>\n",
       "  </thead>\n",
       "  <tbody>\n",
       "    <tr>\n",
       "      <th>count</th>\n",
       "      <td>913</td>\n",
       "      <td>909</td>\n",
       "      <td>913</td>\n",
       "      <td>913</td>\n",
       "      <td>913</td>\n",
       "      <td>913</td>\n",
       "      <td>909</td>\n",
       "      <td>913</td>\n",
       "      <td>913</td>\n",
       "      <td>913</td>\n",
       "    </tr>\n",
       "    <tr>\n",
       "      <th>unique</th>\n",
       "      <td>800</td>\n",
       "      <td>798</td>\n",
       "      <td>750</td>\n",
       "      <td>313</td>\n",
       "      <td>170</td>\n",
       "      <td>448</td>\n",
       "      <td>5</td>\n",
       "      <td>595</td>\n",
       "      <td>243</td>\n",
       "      <td>800</td>\n",
       "    </tr>\n",
       "    <tr>\n",
       "      <th>top</th>\n",
       "      <td>SEN-1779</td>\n",
       "      <td>2026-01-02</td>\n",
       "      <td>error</td>\n",
       "      <td>7.54</td>\n",
       "      <td>19.1</td>\n",
       "      <td>56.0</td>\n",
       "      <td>Wheat</td>\n",
       "      <td>66.9</td>\n",
       "      <td>8.0</td>\n",
       "      <td>IMG-2779</td>\n",
       "    </tr>\n",
       "    <tr>\n",
       "      <th>freq</th>\n",
       "      <td>2</td>\n",
       "      <td>2</td>\n",
       "      <td>5</td>\n",
       "      <td>11</td>\n",
       "      <td>13</td>\n",
       "      <td>8</td>\n",
       "      <td>203</td>\n",
       "      <td>8</td>\n",
       "      <td>11</td>\n",
       "      <td>2</td>\n",
       "    </tr>\n",
       "  </tbody>\n",
       "</table>\n",
       "</div>"
      ],
      "text/plain": [
       "       Sensor_ID        Date Soil_Moisture(%) Soil_pH Temperature(C)  \\\n",
       "count        913         909              913     913            913   \n",
       "unique       800         798              750     313            170   \n",
       "top     SEN-1779  2026-01-02            error    7.54           19.1   \n",
       "freq           2           2                5      11             13   \n",
       "\n",
       "       Humidity(%) Crop_Type Fertilizer_Recommended(kg/ha)  \\\n",
       "count          913       909                           913   \n",
       "unique         448         5                           595   \n",
       "top           56.0     Wheat                          66.9   \n",
       "freq             8       203                             8   \n",
       "\n",
       "       Irrigation_Recommended(mm) Drone_Image_ID  \n",
       "count                         913            913  \n",
       "unique                        243            800  \n",
       "top                           8.0       IMG-2779  \n",
       "freq                           11              2  "
      ]
     },
     "execution_count": 10,
     "metadata": {},
     "output_type": "execute_result"
    }
   ],
   "source": [
    "data.describe()"
   ]
  },
  {
   "cell_type": "code",
   "execution_count": 20,
   "id": "c7f9248a",
   "metadata": {},
   "outputs": [
    {
     "data": {
      "text/plain": [
       "Sensor_ID                        object\n",
       "Date                             object\n",
       "Soil_Moisture(%)                 object\n",
       "Soil_pH                          object\n",
       "Temperature(C)                   object\n",
       "Humidity(%)                      object\n",
       "Crop_Type                        object\n",
       "Fertilizer_Recommended(kg/ha)    object\n",
       "Irrigation_Recommended(mm)       object\n",
       "Drone_Image_ID                   object\n",
       "dtype: object"
      ]
     },
     "execution_count": 20,
     "metadata": {},
     "output_type": "execute_result"
    }
   ],
   "source": [
    "data.dtypes\n"
   ]
  },
  {
   "cell_type": "code",
   "execution_count": 6,
   "id": "ad22b13c",
   "metadata": {},
   "outputs": [],
   "source": [
    "cols_to_convert = [\n",
    "    'Soil_Moisture(%)', \n",
    "    'Soil_pH', \n",
    "    'Temperature(C)', \n",
    "    'Humidity(%)', \n",
    "    'Fertilizer_Recommended(kg/ha)', \n",
    "    'Irrigation_Recommended(mm)'\n",
    "]\n",
    "\n",
    "for col in cols_to_convert:\n",
    "    data[col] = pd.to_numeric(data[col], errors='coerce')\n"
   ]
  },
  {
   "cell_type": "code",
   "execution_count": 22,
   "id": "5d20909d",
   "metadata": {},
   "outputs": [
    {
     "data": {
      "text/plain": [
       "Sensor_ID                         object\n",
       "Date                              object\n",
       "Soil_Moisture(%)                 float64\n",
       "Soil_pH                          float64\n",
       "Temperature(C)                   float64\n",
       "Humidity(%)                      float64\n",
       "Crop_Type                         object\n",
       "Fertilizer_Recommended(kg/ha)    float64\n",
       "Irrigation_Recommended(mm)       float64\n",
       "Drone_Image_ID                    object\n",
       "dtype: object"
      ]
     },
     "execution_count": 22,
     "metadata": {},
     "output_type": "execute_result"
    }
   ],
   "source": [
    "data.dtypes"
   ]
  },
  {
   "cell_type": "code",
   "execution_count": 7,
   "id": "861e6e8c",
   "metadata": {},
   "outputs": [
    {
     "data": {
      "text/plain": [
       "np.float64(44.47009911894272)"
      ]
     },
     "execution_count": 7,
     "metadata": {},
     "output_type": "execute_result"
    }
   ],
   "source": [
    "data['Soil_Moisture(%)'].mean()"
   ]
  },
  {
   "cell_type": "code",
   "execution_count": 9,
   "id": "d6c50441",
   "metadata": {},
   "outputs": [
    {
     "data": {
      "text/plain": [
       "Crop_Type\n",
       "Wheat       203\n",
       "Tomatoes    187\n",
       "Beans       176\n",
       "Lettuce     172\n",
       "Maize       171\n",
       "Name: count, dtype: int64"
      ]
     },
     "execution_count": 9,
     "metadata": {},
     "output_type": "execute_result"
    }
   ],
   "source": [
    "data['Crop_Type'].value_counts()"
   ]
  },
  {
   "cell_type": "code",
   "execution_count": 10,
   "id": "713607b7",
   "metadata": {},
   "outputs": [
    {
     "data": {
      "text/plain": [
       "Crop_Type\n",
       "Beans       84.774286\n",
       "Lettuce     88.426316\n",
       "Maize       88.451176\n",
       "Tomatoes    89.303763\n",
       "Wheat       86.853960\n",
       "Name: Fertilizer_Recommended(kg/ha), dtype: float64"
      ]
     },
     "execution_count": 10,
     "metadata": {},
     "output_type": "execute_result"
    }
   ],
   "source": [
    "data.groupby('Crop_Type')['Fertilizer_Recommended(kg/ha)'].mean()"
   ]
  },
  {
   "cell_type": "code",
   "execution_count": 11,
   "id": "bffd28c4",
   "metadata": {},
   "outputs": [
    {
     "data": {
      "text/plain": [
       "(np.float64(18.0), np.float64(35.0))"
      ]
     },
     "execution_count": 11,
     "metadata": {},
     "output_type": "execute_result"
    }
   ],
   "source": [
    "#tempeture range\n",
    "data['Temperature(C)'].min(), data['Temperature(C)'].max()"
   ]
  },
  {
   "cell_type": "code",
   "execution_count": 21,
   "id": "e85f13a6",
   "metadata": {},
   "outputs": [
    {
     "data": {
      "image/png": "[encoded data removed]",
      "text/plain": [
       "<Figure size 640x480 with 1 Axes>"
      ]
     },
     "metadata": {},
     "output_type": "display_data"
    },
    {
     "data": {
      "text/plain": [
       "<Figure size 640x480 with 0 Axes>"
      ]
     },
     "metadata": {},
     "output_type": "display_data"
    }
   ],
   "source": [
    "#Histogram of Soil pH\n",
    "import matplotlib.pyplot as plt\n",
    "plt.hist(data['Soil_pH'], bins=10, color='brown', edgecolor='black')\n",
    "plt.title('Distribution of Soil pH')\n",
    "plt.xlabel('Soil pH')\n",
    "plt.ylabel('Frequency')\n",
    "plt.grid(True)\n",
    "plt.show()\n",
    "plt.savefig(\"bar_chart.png\")\n"
   ]
  },
  {
   "cell_type": "code",
   "execution_count": 23,
   "id": "60016590",
   "metadata": {},
   "outputs": [
    {
     "data": {
      "image/png": "[encoded data removed]",
      "text/plain": [
       "<Figure size 640x480 with 1 Axes>"
      ]
     },
     "metadata": {},
     "output_type": "display_data"
    },
    {
     "data": {
      "text/plain": [
       "<Figure size 640x480 with 0 Axes>"
      ]
     },
     "metadata": {},
     "output_type": "display_data"
    }
   ],
   "source": [
    "#bar cahrt of Avg Fertilizer by crop\n",
    "data.groupby('Crop_Type')['Fertilizer_Recommended(kg/ha)'].mean().plot(kind='bar')\n",
    "plt.title('Average Fertilizer per Crop')\n",
    "plt.xlabel('Crop_Type')\n",
    "plt.ylabel('Average Fertilizer (kg/ha)')\n",
    "plt.xticks(rotation=45)\n",
    "plt.grid(True)\n",
    "plt.show()\n",
    "plt.savefig(\"fertilizerbar_chart.png\")\n"
   ]
  },
  {
   "cell_type": "code",
   "execution_count": null,
   "id": "c7f2cda2",
   "metadata": {},
   "outputs": [],
   "source": [
    "#pie chart of crop types\n",
    "\n",
    "crop_counts = data['Crop_Type'].value_counts()\n"
   ]
  },
  {
   "cell_type": "code",
   "execution_count": 20,
   "id": "2b5cac04",
   "metadata": {},
   "outputs": [
    {
     "data": {
      "image/png": "[encoded data removed]",
      "text/plain": [
       "<Figure size 800x800 with 1 Axes>"
      ]
     },
     "metadata": {},
     "output_type": "display_data"
    },
    {
     "data": {
      "text/plain": [
       "<Figure size 640x480 with 0 Axes>"
      ]
     },
     "metadata": {},
     "output_type": "display_data"
    }
   ],
   "source": [
    "import matplotlib.pyplot as plt\n",
    "\n",
    "# Plot pie chart\n",
    "plt.figure(figsize=(8, 8))\n",
    "plt.pie(crop_counts, labels=crop_counts.index, autopct='%1.1f%%', startangle=90)\n",
    "plt.title('Crop Type Distribution')\n",
    "plt.axis('equal')  # Makes it a perfect circle\n",
    "plt.show()\n",
    "plt.savefig(\"pie_chart.png\")\n",
    "\n"
   ]
  }
 ],
 "metadata": {
  "kernelspec": {
   "display_name": "Python 3",
   "language": "python",
   "name": "python3"
  },
  "language_info": {
   "codemirror_mode": {
    "name": "ipython",
    "version": 3
   },
   "file_extension": ".py",
   "mimetype": "text/x-python",
   "name": "python",
   "nbconvert_exporter": "python",
   "pygments_lexer": "ipython3",
   "version": "3.10.0"
  }
 },
 "nbformat": 4,
 "nbformat_minor": 5
}
